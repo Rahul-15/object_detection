{
 "cells": [
  {
   "cell_type": "code",
   "execution_count": 1,
   "metadata": {},
   "outputs": [
    {
     "name": "stdout",
     "output_type": "stream",
     "text": [
      "Populating the interactive namespace from numpy and matplotlib\n"
     ]
    }
   ],
   "source": [
    "import cv2\n",
    "import os\n",
    "import time\n",
    "import matplotlib.pyplot as plt\n",
    "%pylab inline"
   ]
  },
  {
   "cell_type": "code",
   "execution_count": 2,
   "metadata": {},
   "outputs": [],
   "source": [
    "video_dir = \"input_video\"\n",
    "picture_dir = \"frames\""
   ]
  },
  {
   "cell_type": "code",
   "execution_count": 3,
   "metadata": {},
   "outputs": [],
   "source": [
    "def convert_video_image(fileName, everyNthFrame):\n",
    "    try:\n",
    "        print(\"Extracting %s to images\" %fileName, end='')\n",
    "        videoCap = cv2.VideoCapture(fileName)\n",
    "        success,image = videoCap.read()\n",
    "        fname = fileName.split(\"/\")[1].split(\".\")[0]\n",
    "        count = 1\n",
    "        while success:\n",
    "            print(\".\", end='')\n",
    "            cv2.imwrite(os.path.join(picture_dir,\"%s_frame_%05d.jpg\" %(fname, count)), image)     # save frame as JPEG file      \n",
    "            start_frame_number = count * everyNthFrame\n",
    "            videoCap.set(cv2.CAP_PROP_POS_FRAMES, start_frame_number)\n",
    "            success,image = videoCap.read()\n",
    "            count += 1\n",
    "    except Exception as e:\n",
    "        print(e)\n",
    "    print(count-1)\n",
    "    "
   ]
  },
  {
   "cell_type": "code",
   "execution_count": 6,
   "metadata": {},
   "outputs": [
    {
     "name": "stdout",
     "output_type": "stream",
     "text": [
      "Extracting input_video/3.mp4 to images...3\n"
     ]
    }
   ],
   "source": [
    "if not os.path.isdir(picture_dir):\n",
    "    os.mkdir(picture_dir)\n",
    "    \n",
    "# for file in os.listdir(picture_dir):\n",
    "#     try:\n",
    "#         os.remove(os.path.join(picture_dir, file))\n",
    "#     except Exception as e:\n",
    "#         print(e)\n",
    "\n",
    "# for file in os.listdir(video_dir)[:4]:\n",
    "#     convert_video_image(os.path.join(video_dir, file), 160)\n",
    "\n",
    "file = '3.mp4'\n",
    "convert_video_image(os.path.join(video_dir, file), 160)"
   ]
  },
  {
   "cell_type": "code",
   "execution_count": null,
   "metadata": {},
   "outputs": [],
   "source": []
  }
 ],
 "metadata": {
  "kernelspec": {
   "display_name": "Python 3",
   "language": "python",
   "name": "python3"
  },
  "language_info": {
   "codemirror_mode": {
    "name": "ipython",
    "version": 3
   },
   "file_extension": ".py",
   "mimetype": "text/x-python",
   "name": "python",
   "nbconvert_exporter": "python",
   "pygments_lexer": "ipython3",
   "version": "3.7.3"
  }
 },
 "nbformat": 4,
 "nbformat_minor": 2
}
