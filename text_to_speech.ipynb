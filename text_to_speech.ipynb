{
  "nbformat": 4,
  "nbformat_minor": 0,
  "metadata": {
    "colab": {
      "name": "text to speech.ipynb",
      "version": "0.3.2",
      "provenance": [],
      "include_colab_link": true
    },
    "kernelspec": {
      "name": "python3",
      "display_name": "Python 3"
    }
  },
  "cells": [
    {
      "cell_type": "markdown",
      "metadata": {
        "id": "view-in-github",
        "colab_type": "text"
      },
      "source": [
        "<a href=\"https://colab.research.google.com/github/Rahul-15/object_detection/blob/master/text_to_speech.ipynb\" target=\"_parent\"><img src=\"https://colab.research.google.com/assets/colab-badge.svg\" alt=\"Open In Colab\"/></a>"
      ]
    },
    {
      "metadata": {
        "id": "GL18tN90WRhe",
        "colab_type": "code",
        "colab": {
          "base_uri": "https://localhost:8080/",
          "height": 34
        },
        "outputId": "ddbab007-c515-4c24-ef26-6d774357df0b"
      },
      "cell_type": "code",
      "source": [
        "from gtts import gTTS\n",
        "text = input()\n",
        "language='en'\n",
        "myob=gTTS(text=text,lang=language,slow=False)\n",
        "myob.save('Voice1.mp3')"
      ],
      "execution_count": 34,
      "outputs": [
        {
          "output_type": "stream",
          "text": [
            "hello world it's ashish kumar\n"
          ],
          "name": "stdout"
        }
      ]
    },
    {
      "metadata": {
        "id": "AJ7cQIXsO2IG",
        "colab_type": "code",
        "colab": {
          "base_uri": "https://localhost:8080/",
          "height": 61
        },
        "outputId": "3835d9ef-4899-4889-abb3-a1bbdfdd806a"
      },
      "cell_type": "code",
      "source": [
        "import IPython.display as ipd\n",
        "ipd.Audio(filename='Voice1.mp3',autoplay = True)"
      ],
      "execution_count": 35,
      "outputs": [
        {
          "output_type": "execute_result",
          "data": {
            "text/html": [
              "\n",
              "                <audio controls=\"controls\" autoplay=\"autoplay\">\n",
              "                    <source src=\"data:audio/mpeg;base64,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\" type=\"audio/mpeg\" />\n",
              "                    Your browser does not support the audio element.\n",
              "                </audio>\n",
              "              "
            ],
            "text/plain": [
              "<IPython.lib.display.Audio object>"
            ]
          },
          "metadata": {
            "tags": []
          },
          "execution_count": 35
        }
      ]
    },
    {
      "metadata": {
        "id": "vzm7lW2XltIN",
        "colab_type": "code",
        "colab": {}
      },
      "cell_type": "code",
      "source": [
        ""
      ],
      "execution_count": 0,
      "outputs": []
    }
  ]
}