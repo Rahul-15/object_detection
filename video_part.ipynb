{
  "nbformat": 4,
  "nbformat_minor": 0,
  "metadata": {
    "colab": {
      "name": "Fun time.ipynb",
      "provenance": [],
      "authorship_tag": "ABX9TyPTsmjVAjElgiiuCaV33F5U",
      "include_colab_link": true
    },
    "kernelspec": {
      "name": "python3",
      "display_name": "Python 3"
    }
  },
  "cells": [
    {
      "cell_type": "markdown",
      "metadata": {
        "id": "view-in-github",
        "colab_type": "text"
      },
      "source": [
        "<a href=\"https://colab.research.google.com/github/Rahul-15/object_detection/blob/master/video_part.ipynb\" target=\"_parent\"><img src=\"https://colab.research.google.com/assets/colab-badge.svg\" alt=\"Open In Colab\"/></a>"
      ]
    },
    {
      "cell_type": "code",
      "metadata": {
        "id": "Zvlh64xDlMrG",
        "colab_type": "code",
        "outputId": "caa5e924-cd9d-4fa2-f5e5-b58eaee6f6e6",
        "colab": {
          "base_uri": "https://localhost:8080/",
          "height": 187
        }
      },
      "source": [
        "%tensorflow_version 1.x\n",
        "!pip install -U -q pydrive\n",
        "!pip install gTTS"
      ],
      "execution_count": 40,
      "outputs": [
        {
          "output_type": "stream",
          "text": [
            "Requirement already satisfied: gTTS in /usr/local/lib/python3.6/dist-packages (2.1.1)\n",
            "Requirement already satisfied: click in /usr/local/lib/python3.6/dist-packages (from gTTS) (7.1.2)\n",
            "Requirement already satisfied: gtts-token>=1.1.3 in /usr/local/lib/python3.6/dist-packages (from gTTS) (1.1.3)\n",
            "Requirement already satisfied: six in /usr/local/lib/python3.6/dist-packages (from gTTS) (1.12.0)\n",
            "Requirement already satisfied: requests in /usr/local/lib/python3.6/dist-packages (from gTTS) (2.23.0)\n",
            "Requirement already satisfied: beautifulsoup4 in /usr/local/lib/python3.6/dist-packages (from gTTS) (4.6.3)\n",
            "Requirement already satisfied: certifi>=2017.4.17 in /usr/local/lib/python3.6/dist-packages (from requests->gTTS) (2020.4.5.1)\n",
            "Requirement already satisfied: chardet<4,>=3.0.2 in /usr/local/lib/python3.6/dist-packages (from requests->gTTS) (3.0.4)\n",
            "Requirement already satisfied: urllib3!=1.25.0,!=1.25.1,<1.26,>=1.21.1 in /usr/local/lib/python3.6/dist-packages (from requests->gTTS) (1.24.3)\n",
            "Requirement already satisfied: idna<3,>=2.5 in /usr/local/lib/python3.6/dist-packages (from requests->gTTS) (2.9)\n"
          ],
          "name": "stdout"
        }
      ]
    },
    {
      "cell_type": "code",
      "metadata": {
        "id": "HJQ0m5Dkln5x",
        "colab_type": "code",
        "outputId": "939abc53-4a80-4eff-e480-38e2b32d4e26",
        "colab": {
          "base_uri": "https://localhost:8080/",
          "height": 51
        }
      },
      "source": [
        "from google.colab import drive\n",
        "drive.mount('/gdrive')\n",
        "%cd /gdrive"
      ],
      "execution_count": 41,
      "outputs": [
        {
          "output_type": "stream",
          "text": [
            "Drive already mounted at /gdrive; to attempt to forcibly remount, call drive.mount(\"/gdrive\", force_remount=True).\n",
            "/gdrive\n"
          ],
          "name": "stdout"
        }
      ]
    },
    {
      "cell_type": "code",
      "metadata": {
        "id": "MhhdcXb8lqLs",
        "colab_type": "code",
        "outputId": "89ea9054-6de7-433d-ef1c-92aacf87c73b",
        "colab": {
          "base_uri": "https://localhost:8080/",
          "height": 34
        }
      },
      "source": [
        "cd My\\ Drive/pollyanna"
      ],
      "execution_count": 42,
      "outputs": [
        {
          "output_type": "stream",
          "text": [
            "/gdrive/My Drive/pollyanna\n"
          ],
          "name": "stdout"
        }
      ]
    },
    {
      "cell_type": "code",
      "metadata": {
        "id": "9QRUEQ_fnbUV",
        "colab_type": "code",
        "outputId": "84779339-6758-4537-f757-ca44a97137d8",
        "colab": {
          "base_uri": "https://localhost:8080/",
          "height": 51
        }
      },
      "source": [
        "#!pip install ffmpeg-python"
      ],
      "execution_count": 43,
      "outputs": [
        {
          "output_type": "stream",
          "text": [
            "Requirement already satisfied: ffmpeg-python in /usr/local/lib/python3.6/dist-packages (0.2.0)\n",
            "Requirement already satisfied: future in /usr/local/lib/python3.6/dist-packages (from ffmpeg-python) (0.16.0)\n"
          ],
          "name": "stdout"
        }
      ]
    },
    {
      "cell_type": "code",
      "metadata": {
        "id": "fj9nI09jov3U",
        "colab_type": "code",
        "outputId": "3147c3cb-d03f-4fa3-9e8b-955847bd5a52",
        "colab": {
          "base_uri": "https://localhost:8080/",
          "height": 34
        }
      },
      "source": [
        "#!pip install ffmpy"
      ],
      "execution_count": 44,
      "outputs": [
        {
          "output_type": "stream",
          "text": [
            "Requirement already satisfied: ffmpy in /usr/local/lib/python3.6/dist-packages (0.2.3)\n"
          ],
          "name": "stdout"
        }
      ]
    },
    {
      "cell_type": "code",
      "metadata": {
        "id": "rsp1EraNqog2",
        "colab_type": "code",
        "outputId": "5dcfdb52-8b78-493d-81bd-72820a4e2409",
        "colab": {
          "base_uri": "https://localhost:8080/",
          "height": 187
        }
      },
      "source": [
        "!pip install mhmovie\n",
        "!pip install gTTS"
      ],
      "execution_count": 45,
      "outputs": [
        {
          "output_type": "stream",
          "text": [
            "Requirement already satisfied: mhmovie in /usr/local/lib/python3.6/dist-packages (2.8)\n",
            "Requirement already satisfied: imageio-ffmpeg in /usr/local/lib/python3.6/dist-packages (from mhmovie) (0.4.2)\n",
            "Requirement already satisfied: pydub in /usr/local/lib/python3.6/dist-packages (from mhmovie) (0.24.0)\n",
            "Requirement already satisfied: moviepy in /usr/local/lib/python3.6/dist-packages (from mhmovie) (0.2.3.5)\n",
            "Requirement already satisfied: youtube-dl in /usr/local/lib/python3.6/dist-packages (from mhmovie) (2020.5.8)\n",
            "Requirement already satisfied: tqdm<5.0,>=4.11.2 in /usr/local/lib/python3.6/dist-packages (from moviepy->mhmovie) (4.41.1)\n",
            "Requirement already satisfied: imageio<3.0,>=2.1.2 in /usr/local/lib/python3.6/dist-packages (from moviepy->mhmovie) (2.4.1)\n",
            "Requirement already satisfied: numpy in /usr/local/lib/python3.6/dist-packages (from moviepy->mhmovie) (1.18.4)\n",
            "Requirement already satisfied: decorator<5.0,>=4.0.2 in /usr/local/lib/python3.6/dist-packages (from moviepy->mhmovie) (4.4.2)\n",
            "Requirement already satisfied: pillow in /usr/local/lib/python3.6/dist-packages (from imageio<3.0,>=2.1.2->moviepy->mhmovie) (7.0.0)\n"
          ],
          "name": "stdout"
        }
      ]
    },
    {
      "cell_type": "code",
      "metadata": {
        "id": "jCqeQIPlrAn3",
        "colab_type": "code",
        "outputId": "96e9b90b-941e-43dd-8c51-326f0f3ce230",
        "colab": {
          "base_uri": "https://localhost:8080/",
          "height": 153
        }
      },
      "source": [
        "!ls"
      ],
      "execution_count": 0,
      "outputs": [
        {
          "output_type": "stream",
          "text": [
            " 1.mp4\t\t       keras_yolo.py\t\t\t test.wav\n",
            " coco_classes.txt      output_image\t\t\t Untitled0.ipynb\n",
            " dog.jpg\t       output_video_frames\t\t utils.py\n",
            " FiraMono-Medium.otf   person1.mp3\t\t\t video_frames\n",
            "'Fun time.ipynb'       Polyanna_for_blind_people.ipynb\t yolo_anchors.txt\n",
            " __init__.py\t       project.ipynb\t\t\t yolo.h5\n",
            " input_image\t       __pycache__\t\t\t yolo_utils.py\n",
            " keras_darknet19.py    README.md\n"
          ],
          "name": "stdout"
        }
      ]
    },
    {
      "cell_type": "code",
      "metadata": {
        "id": "J_v-_uRSsdSI",
        "colab_type": "code",
        "colab": {}
      },
      "source": [
        "#working - merging audio to video\n",
        "def combine_audio(vidname, audname, outname, fps):\n",
        "\timport moviepy.editor as mpe\n",
        "\tmy_clip = mpe.VideoFileClip(vidname)\n",
        "\taudio_background = mpe.AudioFileClip(audname)\n",
        "\tfinal_clip = my_clip.set_audio(audio_background)\n",
        "\tfinal_clip.write_videofile(outname,fps=fps) "
      ],
      "execution_count": 0,
      "outputs": []
    },
    {
      "cell_type": "code",
      "metadata": {
        "id": "hQg__ZCLwzW4",
        "colab_type": "code",
        "colab": {}
      },
      "source": [
        "#working - in this way we can create combined mp3 files\n",
        "#from pydub import AudioSegment\n",
        "#sound = AudioSegment.from_mp3(\"person1.mp3\")\n",
        "#two_sec_silence = AudioSegment.silent(duration=2000)\n",
        "#sound_with_gap = sound[:] + two_sec_silence + sound[:]\n",
        "#sound_with_gap.export(\"person2.mp3\", format=\"mp3\")"
      ],
      "execution_count": 0,
      "outputs": []
    },
    {
      "cell_type": "code",
      "metadata": {
        "id": "hX6COZx0xLas",
        "colab_type": "code",
        "colab": {}
      },
      "source": [
        "# working - takes a list as input and the creats a video file as output\n",
        "import os\n",
        "from os import path\n",
        "from pydub import AudioSegment\n",
        "from gtts import gTTS\n",
        "\n",
        "ar = [0 , \"\" , 1000 ,  \"cycle at right\", 3000, \"cycle at right\", 7000 , \"clear\" ]  # input List [time , text]\n",
        "\n",
        "i = 2\n",
        "final_slice = AudioSegment.silent(duration = 0)\n",
        "while i < len(ar):\n",
        "  current_time_slice = ar[i] - ar[i-2];\n",
        "  text = ar[i+1]\n",
        "  myob=gTTS(text=text,lang='en',slow=False)\n",
        "  myob.save(os.getcwd()+'/person1.mp3')\n",
        "  final_slice +=  AudioSegment.silent(duration = current_time_slice) + AudioSegment.from_mp3(\"person1.mp3\")[:]\n",
        "  i += 2\n",
        "\n",
        "final_slice.export(\"final.mp3\", format=\"mp3\")                                      #creating final audio file by merging all all audio files"
      ],
      "execution_count": 0,
      "outputs": []
    },
    {
      "cell_type": "code",
      "metadata": {
        "id": "gMWFY-8aqTGP",
        "colab_type": "code",
        "colab": {
          "base_uri": "https://localhost:8080/",
          "height": 170
        },
        "outputId": "39e0fb37-61fc-4b07-c958-fb4fc329b616"
      },
      "source": [
        "combine_audio(\"1.mp4\",\"final.mp3\",\"output2.mp4\",30)                                #combine audio and video"
      ],
      "execution_count": 55,
      "outputs": [
        {
          "output_type": "stream",
          "text": [
            "[MoviePy] >>>> Building video output2.mp4\n",
            "[MoviePy] Writing audio in output2TEMP_MPY_wvf_snd.mp3\n"
          ],
          "name": "stdout"
        },
        {
          "output_type": "stream",
          "text": [
            "100%|██████████| 227/227 [00:00<00:00, 946.94it/s]"
          ],
          "name": "stderr"
        },
        {
          "output_type": "stream",
          "text": [
            "[MoviePy] Done.\n",
            "[MoviePy] Writing video output2.mp4\n"
          ],
          "name": "stdout"
        },
        {
          "output_type": "stream",
          "text": [
            "\n",
            "100%|██████████| 313/313 [00:22<00:00, 14.10it/s]\n"
          ],
          "name": "stderr"
        },
        {
          "output_type": "stream",
          "text": [
            "[MoviePy] Done.\n",
            "[MoviePy] >>>> Video ready: output2.mp4 \n",
            "\n"
          ],
          "name": "stdout"
        }
      ]
    }
  ]
}